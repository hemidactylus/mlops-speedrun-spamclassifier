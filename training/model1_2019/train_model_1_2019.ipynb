{
 "cells": [
  {
   "cell_type": "markdown",
   "id": "dbe5b1be",
   "metadata": {},
   "source": [
    "# Data retrieval"
   ]
  },
  {
   "cell_type": "code",
   "execution_count": null,
   "id": "d3fdf89d",
   "metadata": {},
   "outputs": [],
   "source": [
    "import os\n",
    "# import sys\n",
    "import datetime\n",
    "import pandas\n",
    "\n",
    "from feast import FeatureStore"
   ]
  },
  {
   "cell_type": "code",
   "execution_count": null,
   "id": "ce91f22d",
   "metadata": {},
   "outputs": [],
   "source": [
    "root_dir = os.path.join(os.getcwd(), '..', '..')\n",
    "store_dir = os.path.join(root_dir, 'sms_feature_store')\n",
    "raw_data_dir = os.path.join(root_dir, 'raw_data')"
   ]
  },
  {
   "cell_type": "code",
   "execution_count": null,
   "id": "4c29918f",
   "metadata": {},
   "outputs": [],
   "source": [
    "training_timefreeze = datetime.datetime(2019, 5, 5)\n",
    "print(f\"Freezing time to {training_timefreeze.strftime('%Y-%m-%d %H:%M:%S')} for training\")"
   ]
  },
  {
   "cell_type": "code",
   "execution_count": null,
   "id": "ed973f8f",
   "metadata": {},
   "outputs": [],
   "source": [
    "store = FeatureStore(repo_path=store_dir)"
   ]
  },
  {
   "cell_type": "code",
   "execution_count": null,
   "id": "4391d819",
   "metadata": {},
   "outputs": [],
   "source": [
    "training_sms_ids = [\n",
    "    int(sms_id)\n",
    "    for sms_id in (\n",
    "        line.strip()\n",
    "        for line in open(os.path.join(raw_data_dir, 'training_sms_ids.txt')).readlines()\n",
    "    )\n",
    "    if sms_id\n",
    "]"
   ]
  },
  {
   "cell_type": "code",
   "execution_count": null,
   "id": "d30518c7",
   "metadata": {},
   "outputs": [],
   "source": [
    "entities_df = pandas.DataFrame.from_dict({\n",
    "    'sms_id': training_sms_ids,\n",
    "})\n",
    "entities_df['event_timestamp'] = training_timefreeze\n",
    "\n",
    "historical_df = store.get_historical_features(\n",
    "    entity_df=entities_df,\n",
    "    features=[\n",
    "        'sms_labels:label',\n",
    "        'sms_features1:cap_r',\n",
    "        'sms_features1:nal_r',\n",
    "    ] + [\n",
    "        'sms_features1:cw_scores_%i' % i\n",
    "        for i in range(7)\n",
    "    ],\n",
    ").to_df()"
   ]
  },
  {
   "cell_type": "code",
   "execution_count": null,
   "id": "c47739a7",
   "metadata": {},
   "outputs": [],
   "source": [
    "historical_df"
   ]
  },
  {
   "cell_type": "markdown",
   "id": "599f6d35",
   "metadata": {},
   "source": [
    "# Training"
   ]
  },
  {
   "cell_type": "markdown",
   "id": "ae14dd57",
   "metadata": {},
   "source": [
    "## Data transformation"
   ]
  },
  {
   "cell_type": "code",
   "execution_count": null,
   "id": "53d4c149",
   "metadata": {},
   "outputs": [],
   "source": [
    "x_columns = ['cap_r', 'nal_r', 'cw_scores_0',\n",
    "             'cw_scores_1', 'cw_scores_2', 'cw_scores_3',\n",
    "             'cw_scores_4', 'cw_scores_5', 'cw_scores_6']\n",
    "y_raw_columns = ['label']\n",
    "y_columns = ['label_int']"
   ]
  },
  {
   "cell_type": "code",
   "execution_count": null,
   "id": "8ed337cd",
   "metadata": {},
   "outputs": [],
   "source": [
    "training_df = historical_df[x_columns + y_raw_columns]"
   ]
  },
  {
   "cell_type": "code",
   "execution_count": null,
   "id": "0e2107e8",
   "metadata": {},
   "outputs": [],
   "source": [
    "training_df['label_int'] = training_df['label'].map(lambda lb: {'spam': 1, 'ham': 0}[lb])"
   ]
  },
  {
   "cell_type": "markdown",
   "id": "36ee3f9d",
   "metadata": {},
   "source": [
    "## Training"
   ]
  },
  {
   "cell_type": "code",
   "execution_count": null,
   "id": "360522cd",
   "metadata": {},
   "outputs": [],
   "source": [
    "from sklearn.ensemble import RandomForestClassifier\n",
    "from sklearn.model_selection import train_test_split\n",
    "from sklearn.metrics import accuracy_score, recall_score, precision_score"
   ]
  },
  {
   "cell_type": "code",
   "execution_count": null,
   "id": "91041465",
   "metadata": {},
   "outputs": [],
   "source": [
    "model = RandomForestClassifier(n_estimators=10, max_depth=10,\n",
    "                               min_samples_split=2, random_state=0)"
   ]
  },
  {
   "cell_type": "code",
   "execution_count": null,
   "id": "b2697b16",
   "metadata": {},
   "outputs": [],
   "source": [
    "XY_train, XY_test = train_test_split(training_df, test_size=.2)\n",
    "X_train = XY_train[x_columns]\n",
    "Y_train = XY_train[y_columns]['label_int']\n",
    "X_test = XY_test[x_columns]\n",
    "Y_test = XY_test[y_columns]['label_int']"
   ]
  },
  {
   "cell_type": "code",
   "execution_count": null,
   "id": "d8fe89f8",
   "metadata": {},
   "outputs": [],
   "source": [
    "model.fit(X_train, Y_train)"
   ]
  },
  {
   "cell_type": "markdown",
   "id": "12f85dbf",
   "metadata": {},
   "source": [
    "### evaluate model metrics"
   ]
  },
  {
   "cell_type": "code",
   "execution_count": null,
   "id": "b9c4582a",
   "metadata": {},
   "outputs": [],
   "source": [
    "Y_predict = model.predict(X_test)\n",
    "accuracy = accuracy_score(Y_test, Y_predict)\n",
    "precision = precision_score(Y_test, Y_predict)\n",
    "recall = recall_score(Y_test, Y_predict)\n",
    "\n",
    "print('Accuracy:  %.4f' % accuracy)\n",
    "print('Precision: %.4f' % precision)\n",
    "print('Recall:    %.4f' % recall)"
   ]
  },
  {
   "cell_type": "markdown",
   "id": "ac2b0484",
   "metadata": {},
   "source": [
    "## Storing the model"
   ]
  },
  {
   "cell_type": "code",
   "execution_count": null,
   "id": "b3af11c1",
   "metadata": {},
   "outputs": [],
   "source": [
    "import joblib"
   ]
  },
  {
   "cell_type": "code",
   "execution_count": null,
   "id": "3d5b3999",
   "metadata": {},
   "outputs": [],
   "source": [
    "o_filename = os.path.join(root_dir, 'models', 'model1_2019', 'model1.pkl')\n",
    "joblib.dump(model, o_filename, compress=9)"
   ]
  },
  {
   "cell_type": "markdown",
   "id": "eec062e4",
   "metadata": {},
   "source": [
    "#### Test load-and-apply"
   ]
  },
  {
   "cell_type": "code",
   "execution_count": null,
   "id": "bb0610d0",
   "metadata": {},
   "outputs": [],
   "source": [
    "loaded = joblib.load(o_filename)\n",
    "loaded.predict(pandas.DataFrame(\n",
    "    {\n",
    "        'cap_r': [0.2, 0.05],\n",
    "        'nal_r': [0.05, 0.02],\n",
    "        'cw_scores_0': [0, 0],\n",
    "        'cw_scores_1': [0, 0],\n",
    "        'cw_scores_2': [1, 0],\n",
    "        'cw_scores_3': [0, 1],\n",
    "        'cw_scores_4': [1, 0],\n",
    "        'cw_scores_5': [1, 0],\n",
    "        'cw_scores_6': [0, 0],\n",
    "    }\n",
    "))"
   ]
  }
 ],
 "metadata": {
  "kernelspec": {
   "display_name": "Python 3 (ipykernel)",
   "language": "python",
   "name": "python3"
  },
  "language_info": {
   "codemirror_mode": {
    "name": "ipython",
    "version": 3
   },
   "file_extension": ".py",
   "mimetype": "text/x-python",
   "name": "python",
   "nbconvert_exporter": "python",
   "pygments_lexer": "ipython3",
   "version": "3.9.12"
  }
 },
 "nbformat": 4,
 "nbformat_minor": 5
}
